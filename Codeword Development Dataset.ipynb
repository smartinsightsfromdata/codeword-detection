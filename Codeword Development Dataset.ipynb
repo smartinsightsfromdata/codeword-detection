{
 "cells": [
  {
   "cell_type": "markdown",
   "metadata": {},
   "source": [
    "# Codeword Detection Development Dataset Generation"
   ]
  },
  {
   "cell_type": "markdown",
   "metadata": {},
   "source": [
    "Done by Linan Qiu [(github.com/linanqiu)](https://github.com/linanqiu) for TextIQ"
   ]
  },
  {
   "cell_type": "markdown",
   "metadata": {},
   "source": [
    "In this notebook, we generate a development / test dataset for the codeword detection problem.\n",
    "\n",
    "The codeword detection problem can be framed as the following: \n",
    "\n",
    "- A codeword is a word that is used in a different context from its usual context. (eg. using `cheeseburger` to denote `equities` in an email between equities traders)\n",
    "- Given a corpus containing codewords (**codeword corpus**) and a reference corpus not containing codewords (**reference corpus**), find codewords in the codeword corpus.\n",
    "\n",
    "As far as the author knows, no dataset specifically containing a known list of codewords exist. Hence, a synthetic dataset is needed to facilitate experiments for this problem.\n",
    "\n",
    "## Approach Overview\n",
    "\n",
    "To generate a synthetic codeword corpus, we do the following steps\n",
    "\n",
    "1. Get a reference corpus containing little to no codewords\n",
    "2. Select $|\\mathbf{x}|$ words as codewords. Denote this set as $\\mathbf{x}$ where each $x_i$ is a codeword\n",
    "3. Generate a set $\\mathbf{y}$ where each $y_i = x_j | j \\neq i$ ie. each word in $\\mathbf{y}$ maps to a random word in $\\mathbf{x}$ that is not the same as itself\n",
    "4. Generate a codeword corpus by replacing every $x_i$ in reference corpus with $y_i$ (which will not be the same as $x_i$)\n",
    "\n",
    "Then, to verify a detection method's validity, we can\n",
    "\n",
    "1. Provide the detector both corpuses (codeword and reference)\n",
    "2. Make detector find codewords in codeword corpus\n",
    "3. Compare against $\\mathbf{y}$ for retrieval rate\n",
    "\n",
    "However, this still leaves some questions open, including what reference corpus to choose, how adequate words can be chosen as codeword candidates, and how a baseline for codeword detection can be made. This will be addressed along the way."
   ]
  },
  {
   "cell_type": "markdown",
   "metadata": {},
   "source": [
    "First we get some hygiene `python` stuff out of the way and make our graphs pretty."
   ]
  },
  {
   "cell_type": "code",
   "execution_count": 12,
   "metadata": {
    "collapsed": false
   },
   "outputs": [],
   "source": [
    "%matplotlib inline\n",
    "\n",
    "import cPickle as pickle\n",
    "import matplotlib.pyplot as plt\n",
    "plt.style.use('ggplot')"
   ]
  },
  {
   "cell_type": "markdown",
   "metadata": {},
   "source": [
    "## Synthetic Codeword Corpus Creation\n",
    "\n",
    "### Reference Corpus Choice\n",
    "\n",
    "We choose the WSJ Corpus from the PennTreebank to be the reference corpus due to the similarity in the content of the text and the data of potential TextIQ clients.\n",
    "\n",
    "A helper function is made in `lib.corpus_parser` to use `nltk` to parse the WSJ corpus. Tip to future replications: use a symlink to link `LDC99T42-Treebank-3/package/treebank_3/parsed/mrg/wsj` and `LDC99T42-Treebank-3/package/treebank_3/parsed/mrg/brown` to `~/nltk_data/corpora/ptb/wsj` and `~/nltk_data/corpora/ptb/brown` so that `nltk` can parse the WSJ corpus directly."
   ]
  },
  {
   "cell_type": "code",
   "execution_count": 2,
   "metadata": {
    "collapsed": false
   },
   "outputs": [],
   "source": [
    "# reads wsj corpus and saves all lines to all-lines.pkl\n",
    "from lib.corpus_parser import *\n",
    "\n",
    "all_lines = parse_wsj()\n",
    "pickle.dump(all_lines, open('all-lines.pkl', 'wb'))"
   ]
  },
  {
   "cell_type": "markdown",
   "metadata": {},
   "source": [
    "### Codeword Selection\n",
    "\n",
    "We need a way to select $|\\mathbf{x}|$ codewords (in this case, $|\\mathbf{x}| = 100$ an arbitrary number base on intuition about the size of the corpus and usage patterns.)\n",
    "\n",
    "#### TF-IDF\n",
    "\n",
    "A naive way to do this would be TF-IDF as was initially used where\n",
    "\n",
    "- $T_{x_i}$ is the number of times word $x_i$ appeared in the entire corpus\n",
    "- $D_{x_i}$ is the number of documents $x_i$ appeared in the entire corpus\n",
    "- $N_D$ is the number of documents in the entire corpus ie.\n",
    "- $\\mathrm{Rank}_{x_i} = \\mathrm{TFIDF}_{x_i} = \\left(\\log{(T_{x_i}} + 1\\right) * \\left(\\log{(1 + N_D / D_{x_i})} \\right)$ where the left term is the term frequency smoothed such that 0s won't occur, and the right term is the inverse document frequency.\n",
    "\n",
    "We select the top $|\\mathbf{x}|$ words. The intuition behind this method was to downweight terms that appeared in every document (such as \"the\", \"a\", \"he\"), and upweight rarer terms.\n",
    "\n",
    "However, this method was disappointing since it upweighted rare terms too much. In particular, note that the inverse document frequency portion of $\\mathrm{TFIDF}$ is a decreasing function. That means words appearing only 1 time is upweighted the most. Hence, a lot of names and esoteric words that only occur once were selected. The top words consisted of \"yeargin\", \"steinhardt\", \"corry\", \"psyllium\". We needed an alternative method that downweighted very frequent words, upweighted rarer words, but also **downweighted extremely rare words**.\n",
    "\n",
    "#### Gamma Distribution\n",
    "\n",
    "A good way to do this was to use a Gamma distribution instead of the inverse document frequency measure. That means\n",
    "\n",
    "$\\mathrm{Rank}_{x_i} = \\left(\\log{(T_{x_i}} + 1\\right) * \\left(g(D_{x_i})\\right)$ where $g(y)$ is the Gamma distribution function fitted on a given $\\alpha$ and $\\beta$. Specifically, we can set $\\alpha$ and $\\beta$ such that the mode of the distribution is a certain proportion of documents (ie. this is the proportion of documents that \"important words\" should belong in) and the mean to be 2 times of that. Choosing $\\mathrm{Mode} = 0.075 * N_D = (\\alpha-1)*\\beta$ and hence $\\mathrm{Mean} = 0.15 * D = \\alpha * \\beta$, we make the assumption that important words should be present in around 7.5% to 15% of articles.\n",
    "\n",
    "This Gamma distribution could would like this:"
   ]
  },
  {
   "cell_type": "code",
   "execution_count": 13,
   "metadata": {
    "collapsed": false
   },
   "outputs": [
    {
     "data": {
      "image/png": "[encoded data removed]",
      "text/plain": [
       "<matplotlib.figure.Figure at 0x11444af90>"
      ]
     },
     "metadata": {},
     "output_type": "display_data"
    }
   ],
   "source": [
    "d = len(all_lines)\n",
    "beta = 0.075 * d\n",
    "alpha = 0.15 * d / beta\n",
    "loc = 0\n",
    "\n",
    "from scipy.stats import gamma\n",
    "import numpy as np\n",
    "\n",
    "rv = gamma(a=alpha, loc=loc, scale=beta)\n",
    "x = np.linspace(0, 2400)\n",
    "plt.plot(x, rv.pdf(x))\n",
    "plt.show()"
   ]
  },
  {
   "cell_type": "markdown",
   "metadata": {},
   "source": [
    "This function upweights words that appear not so frequently, but downweights words that appear very rarely (along with words that appear frequently). The results turned out to be very reasonable for the WSJ corpus. Top words include \"bonds\", \"index\", \"japanese\", \"oil\", \"traders\".\n",
    "\n",
    "This result should not be surprising given that TF-IDF is a measure meant for weighting words in a single document among many documents, not an aggregate measure across documents.\n",
    "\n",
    "This allows us to select $\\mathbf{x}$ by taking the top $|\\mathbf{x}| = 100$ words using $\\mathbf{\\mathrm{Rank}}$."
   ]
  },
  {
   "cell_type": "markdown",
   "metadata": {},
   "source": [
    "### Generate Substitution Key\n",
    "\n",
    "Now that we have $\\mathbf{x}$ we want to generate a set $\\mathbf{y}$ permuted version of $\\mathbf{x}$ such that $y_i = x_j | j \\neq i$ ie. each word in $\\mathbf{y}$ maps to a random word in $\\mathbf{x}$ that is not the same as itself. This is rather trivial, and we save the key in a pickle and a `.json` so that we can read it easily. We also present the substituted dictionary in the output below."
   ]
  },
  {
   "cell_type": "code",
   "execution_count": 3,
   "metadata": {
    "collapsed": false
   },
   "outputs": [
    {
     "name": "stdout",
     "output_type": "stream",
     "text": [
      "{u'agency': u'buying', u'office': u'issue', u'show': u'foreign', u'september': u'point', u'dollar': u'august', u'trade': u'city', u'london': u'oil', u'committee': u'third-quarter', u'japan': u'demand', u'issues': u'index', u'cut': u'decline', u'system': u'selling', u'analyst': u'office', u'bush': u'debt', u'program': u'congress', u'systems': u'funds', u'treasury': u'program', u'policy': u'house', u'8': u'bid', u'bonds': u'country', u'bid': u'nov.', u'him': u'economy', u'association': u'system', u'notes': u'committee', u'drop': u'insurance', u'she': u'news', u'house': u'him', u'japanese': u'life', u'computer': u'issues', u'home': u'japan', u'insurance': u'jones', u'index': u'credit', u'congress': u'tax', u'chicago': u'she', u'research': u'cut', u'state': u'british', u'firms': u'production', u'issue': u'computer', u'august': u'assets', u'power': u'growth', u'decline': u'department', u'friday': u'power', u'takeover': u'california', u'california': u'drop', u'news': u'loans', u'debt': u'dollar', u'loans': u'banks', u'country': u'state', u'losses': u'due', u'contract': u'her', u'foreign': u'8', u'credit': u'offering', u'economic': u'rates', u'industrial': u'former', u'point': u'friday', u'wall': u'court', u'third-quarter': u'policy', u'city': u'treasury', u'stocks': u'traders', u'her': u'stocks', u'union': u'bill', u'west': u'association', u'due': u'september', u'production': u'street', u'rates': u'systems', u'jones': u'case', u'life': u'bonds', u'selling': u'contract', u'growth': u'losses', u'offering': u'dow', u'funds': u'chicago', u'volume': u'economic', u'fund': u'trade', u'gain': u'monday', u'demand': u'points', u'former': u'fiscal', u'buying': u'volume', u'case': u'firms', u'nov.': u'agency', u'bill': u'annual', u'street': u'bush', u'my': u'notes', u'annual': u'london', u'san': u'union', u'tax': u'my', u'british': u'law', u'court': u'show', u'stake': u'japanese', u'administration': u'gain', u'traders': u'takeover', u'department': u'wall', u'economy': u'research', u'oil': u'stake', u'monday': u'industrial', u'law': u'analyst', u'fiscal': u'west', u'assets': u'administration', u'points': u'san', u'banks': u'fund', u'dow': u'home'}\n"
     ]
    }
   ],
   "source": [
    "from lib.substitute import *\n",
    "\n",
    "substitute_key = generate_substitute_key(all_lines)\n",
    "pickle.dump(substitute_key, open('substitute-key.pkl', 'wb'))\n",
    "import simplejson\n",
    "f = open('substitute-key.json', 'wb')\n",
    "simplejson.dump(substitute_key, f)\n",
    "f.close()\n",
    "\n",
    "print(substitute_key)"
   ]
  },
  {
   "cell_type": "markdown",
   "metadata": {},
   "source": [
    "### Codeword Corpus Generation\n",
    "\n",
    "Now we can generate a codeword corpus by going through the reference corpus and replacing every occurence of word $x_i$ with $y_i$. We retain the original reference corpus and save both in pickles."
   ]
  },
  {
   "cell_type": "code",
   "execution_count": 4,
   "metadata": {
    "collapsed": true
   },
   "outputs": [],
   "source": [
    "all_lines_substituted = generate_substitute_corpus(all_lines, substitute_key)\n",
    "pickle.dump(all_lines_substituted, open('corpus-substituted.pkl', 'wb'))\n",
    "pickle.dump(all_lines, open('corpus-original.pkl', 'wb'))"
   ]
  },
  {
   "cell_type": "markdown",
   "metadata": {},
   "source": [
    "## Verification of Baseline Codeword Detection\n",
    "\n",
    "### Generate Embeddings\n",
    "\n",
    "Now we run both corpuses over `word2vec`. The code below by default reads in the models from storage. This is because I usually run the training on a computer other than my own, and usually on two different computers. However, if you decide to torture your computer, feel free to take around 12 hours on this step (based on the default parameters in `w2v.w2v`). The default parameters used are `model = gensim.models.Word2Vec(sentences, min_count=5, workers=8, iter=300, window=15, size=300, negative=25)` as recommended by Jasneet."
   ]
  },
  {
   "cell_type": "code",
   "execution_count": 5,
   "metadata": {
    "collapsed": true
   },
   "outputs": [],
   "source": [
    "from w2v.w2v import *\n",
    "\n",
    "# all_lines_original = build_sentences(all_lines_original_filename)\n",
    "# all_lines_substituted = build_sentences(all_lines_substituted_filename)\n",
    "#\n",
    "# original_model = model_from_sentences(all_lines_original)\n",
    "# substituted_model = model_from_sentences(all_lines_substituted)\n",
    "#\n",
    "# original_model.save_word2vec_format('./models/corpus-original-w2v.mdl', binary=True)\n",
    "# substituted_model.save_word2vec_format('./models/corpus-substituted-w2v.mdl', binary=True)\n",
    "\n",
    "original_model = model_from_saved(\"./models/corpus-original-w2v.mdl\", binary=True)\n",
    "substituted_model = model_from_saved(\"./models/corpus-substituted-w2v.mdl\", binary=True)"
   ]
  },
  {
   "cell_type": "markdown",
   "metadata": {},
   "source": [
    "### Finding Common Words\n",
    "\n",
    "Then we find the common words in both corpuses. Since we are using a synthetic dataset, and there is always a one to one matching between $\\mathbf{x}$ and $\\mathbf{y}$, the two corpuses should contain the same vocabularies. However, this won't always be the case in actual situations."
   ]
  },
  {
   "cell_type": "code",
   "execution_count": 6,
   "metadata": {
    "collapsed": true
   },
   "outputs": [],
   "source": [
    "from comparison.similarity import *\n",
    "intersect_vocab = set(substituted_model.vocab).intersection(set(original_model.vocab))"
   ]
  },
  {
   "cell_type": "markdown",
   "metadata": {},
   "source": [
    "### Detecting Codewords\n",
    "\n",
    "We detect codewords by measuring, from the two corpuses, what a word is similar to. \n",
    "\n",
    "- For each word $w_i$, we find $\\mathbf{z}_{w_i, x, n}$, the top $n$ words that are similar to $w_i$ as predicted by `word2vec` in gensim's `most_similar` method using the **reference corpus**\n",
    "- For that same word $w_i$ we find $\\mathbf{z}_{w_i, y, n}$ the top $n$ words that are similar to $w_i$ as predicted by the same method but using the **codeword corpus**\n",
    "- We find $\\mathbf{S}$, the intersection of $\\mathbf{z}_{w_i, x, n}$ and $\\mathbf{z}_{w_i, y, n}$. In other words, every word in $S_i \\in \\mathbf{S}$ is defined by $S_i \\in \\{\\mathbf{z}_{w_i, x, n} \\cap \\mathbf{z}_{w_i, y, n}\\}$.\n",
    "- We record the length of the intersection, $|\\mathbf{S}|$, for each word $w_i$."
   ]
  },
  {
   "cell_type": "code",
   "execution_count": 7,
   "metadata": {
    "collapsed": true
   },
   "outputs": [],
   "source": [
    "vocabs = generate_similarity_counts(original_model, substituted_model, intersect_vocab)\n",
    "pickle.dump(vocabs, open('vocabs-compared.pkl', 'wb'))"
   ]
  },
  {
   "cell_type": "markdown",
   "metadata": {},
   "source": [
    "Intuition tells us that codewords are used differently in the codeword corpus than in the reference corpus. In that case $|\\mathbf{S}|$ should be small for codewords and large for non-codewords. Non-codewords are used similarly in both reference corpus and codeword corpus, while codewords are used differently in both corpuses. We can use this to detect codewords."
   ]
  },
  {
   "cell_type": "markdown",
   "metadata": {},
   "source": [
    "## Results\n",
    "\n",
    "We find that we were able to isolate words that have few similarity intersection counts. The distribution of similarity intersection counts across all words look normal with the exception of a cluster of codewords at the left tail. "
   ]
  },
  {
   "cell_type": "code",
   "execution_count": 15,
   "metadata": {
    "collapsed": false
   },
   "outputs": [
    {
     "data": {
      "image/png": "[encoded data removed]",
      "text/plain": [
       "<matplotlib.figure.Figure at 0x110b660d0>"
      ]
     },
     "metadata": {},
     "output_type": "display_data"
    }
   ],
   "source": [
    "# plot results\n",
    "codewords = sorted(vocabs, key=vocabs.get)\n",
    "positive = 0\n",
    "false_positive = 0\n",
    "count = 1\n",
    "results = {}\n",
    "\n",
    "for word in codewords:\n",
    "    if word in substitute_key:\n",
    "        positive += 1\n",
    "    else:\n",
    "        false_positive += 1\n",
    "    results[count] = {'count': count, 'positive': positive, 'false_positive': false_positive, 'false_negative': len(substitute_key) - positive}\n",
    "    count += 1\n",
    "\n",
    "import pandas as pd\n",
    "import matplotlib\n",
    "import matplotlib.pyplot as plot\n",
    "matplotlib.style.use('ggplot')\n",
    "\n",
    "# distribution of comparison counts\n",
    "plot.hist(vocabs.values(), bins=100)\n",
    "plot.show()"
   ]
  },
  {
   "cell_type": "markdown",
   "metadata": {},
   "source": [
    "We can check that the cluster of words at the left tail are indeed codewords. We first sort the all words by similarity count in ascending order. The words with fewest similarity counts will be at the front.\n",
    "\n",
    "Then, we iterate through the words and record (for every count)\n",
    "\n",
    "- `positive`: number of actual codewords correctly identified\n",
    "- `false_positive`: number of words wrongly classified as codeword\n",
    "- `false_negative`: number of actual codewords that were not detected"
   ]
  },
  {
   "cell_type": "code",
   "execution_count": 16,
   "metadata": {
    "collapsed": false
   },
   "outputs": [
    {
     "data": {
      "image/png": "[encoded data removed]",
      "text/plain": [
       "<matplotlib.figure.Figure at 0x115912d90>"
      ]
     },
     "metadata": {},
     "output_type": "display_data"
    }
   ],
   "source": [
    "# plot results\n",
    "dataframe = pd.DataFrame.from_dict(results, orient='index')\n",
    "dataframe.plot(x='count', y=['positive', 'false_positive', 'false_negative'], xlim=[0, 200], ylim=[0, 100])\n",
    "plot.show()"
   ]
  },
  {
   "cell_type": "markdown",
   "metadata": {},
   "source": [
    "As we increase the counts. We find that at a count of around 100, we have a very high positive rate with a very low false positive and false negative rate. Even lower false positive rates can be achieved by sacrifising some false negative rates."
   ]
  },
  {
   "cell_type": "code",
   "execution_count": 19,
   "metadata": {
    "collapsed": false
   },
   "outputs": [
    {
     "name": "stdout",
     "output_type": "stream",
     "text": [
      "positive: 95\n",
      "false positive: 5\n",
      "false negative: 5\n"
     ]
    }
   ],
   "source": [
    "threshold = 100\n",
    "positive = 0\n",
    "false_positive = 0\n",
    "count = 1\n",
    "\n",
    "for word in codewords:\n",
    "    if word in substitute_key:\n",
    "        positive += 1\n",
    "    else:\n",
    "        false_positive += 1\n",
    "    count += 1\n",
    "    \n",
    "    if count > 100:\n",
    "        break\n",
    "\n",
    "print('positive: %d\\nfalse positive: %d\\nfalse negative: %d' % (positive, false_positive, len(substitute_key) - positive))"
   ]
  }
 ],
 "metadata": {
  "kernelspec": {
   "display_name": "Python 2",
   "language": "python",
   "name": "python2"
  },
  "language_info": {
   "codemirror_mode": {
    "name": "ipython",
    "version": 2
   },
   "file_extension": ".py",
   "mimetype": "text/x-python",
   "name": "python",
   "nbconvert_exporter": "python",
   "pygments_lexer": "ipython2",
   "version": "2.7.9"
  }
 },
 "nbformat": 4,
 "nbformat_minor": 0
}
